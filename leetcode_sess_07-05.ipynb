{
 "cells": [
  {
   "cell_type": "markdown",
   "metadata": {},
   "source": [
    "# 1 | Lucky Number\n",
    "Given an array of integers arr, a lucky integer is an integer which has a frequency in the array equal to its value.\n",
    "\n",
    "Return a lucky integer in the array. If there are multiple lucky integers return the largest of them. If there is no lucky integer return -1.\n",
    "\n",
    "Example 1:\n",
    "\n",
    "    Input: arr = [2,2,3,4]\n",
    "    Output: 2\n",
    "    Explanation: The only lucky number in the array is 2 because frequency[2] == 2.\n"
   ]
  },
  {
   "cell_type": "code",
   "execution_count": 24,
   "metadata": {},
   "outputs": [],
   "source": [
    "class Solution:\n",
    "    def findLucky(self, arr):\n",
    "        add_dict = {}\n",
    "        for i in arr:            \n",
    "            if i not in add_dict:\n",
    "                add_dict[i] = 1\n",
    "            else:\n",
    "                add_dict[i] += 1\n",
    "        for key in sorted(add_dict.keys(),reverse=True):\n",
    "            if key == add_dict[key]:\n",
    "                return key\n",
    "        return -1"
   ]
  },
  {
   "cell_type": "markdown",
   "metadata": {},
   "source": [
    "# 2 | Rearrange Words in a Sentence\n",
    "Given a sentence text (A sentence is a string of space-separated words) in the following format:\n",
    "\n",
    "    First letter is in upper case.\n",
    "    Each word in text are separated by a single space.\n",
    "\n",
    "Your task is to rearrange the words in text such that all words are rearranged in an increasing order of their lengths. If two words have the same length, arrange them in their original order.\n",
    "\n",
    "Return the new text following the format shown above.\n",
    "\n",
    " \n",
    "\n",
    "Example 1:\n",
    "\n",
    "    Input: text = \"Leetcode is cool\"\n",
    "    Output: \"Is cool leetcode\"\n",
    "    Explanation: There are 3 words, \"Leetcode\" of length 8, \"is\" of length 2 and \"cool\" of length 4.\n",
    "    Output is ordered by length and the new first word starts with capital letter.\n"
   ]
  },
  {
   "cell_type": "code",
   "execution_count": 25,
   "metadata": {},
   "outputs": [
    {
     "name": "stdout",
     "output_type": "stream",
     "text": [
      "To be or to be not\n"
     ]
    }
   ],
   "source": [
    "def arrangeWords(text):\n",
    "    word_dict = {}\n",
    "    list_arr = text.split(\" \")\n",
    "    for i in list_arr:\n",
    "        if len(i) not in word_dict:\n",
    "            word_dict[len(i)] = [i.lower()]\n",
    "        else:\n",
    "            arr = word_dict[len(i)]           \n",
    "            arr.append(i.lower())\n",
    "            word_dict[len(i)] = [\" \".join(arr)]            \n",
    "    word = \" \".join(i[1][0] for i in sorted(word_dict.items())) \n",
    "    print(word.capitalize())\n",
    "arrangeWords(\"To be or not to be\")"
   ]
  },
  {
   "cell_type": "markdown",
   "metadata": {},
   "source": [
    "# 3 : 1266. Minimum Time Visiting All Points\n",
    "\n",
    "On a plane there are n points with integer coordinates points[i] = [xi, yi]. Your task is to find the minimum time in seconds to visit all points.\n",
    "\n",
    "You can move according to the next rules:\n",
    "\n",
    "In one second always you can either move vertically, horizontally by one unit or diagonally (it means to move one unit vertically and one unit horizontally in one second).\n",
    "    You have to visit the points in the same order as they appear in the array\n",
    "Example 1:\n",
    "\n",
    "    Input: points = [[1,1],[3,4],[-1,0]]\n",
    "    Output: 7\n",
    "    Explanation: One optimal path is [1,1] -> [2,2] -> [3,3] -> [3,4] -> [2,3] -> [1,2] -> [0,1] -> [-1,0]   \n",
    "    Time from [1,1] to [3,4] = 3 seconds \n",
    "    Time from [3,4] to [-1,0] = 4 seconds\n",
    "    Total time = 7 seconds"
   ]
  },
  {
   "cell_type": "code",
   "execution_count": 56,
   "metadata": {},
   "outputs": [
    {
     "data": {
      "text/plain": [
       "49088"
      ]
     },
     "execution_count": 56,
     "metadata": {},
     "output_type": "execute_result"
    }
   ],
   "source": [
    "def minTimeToVisitAllPoints(points):\n",
    "    time = 0\n",
    "    for i in range(0,len(points)-1):  \n",
    "        current_x = points[i][0]\n",
    "        current_y = points[i][1]\n",
    "        next_x = points[i+1][0]\n",
    "        next_y = points[i+1][1]            \n",
    "        x_value = abs(next_x-current_x)\n",
    "        y_value = abs(next_y -current_y)\n",
    "        time  += max(x_value,y_value)\n",
    "\n",
    "    return time"
   ]
  },
  {
   "cell_type": "markdown",
   "metadata": {},
   "source": [
    "# 4 : 11. Container With Most Water\n",
    "\n",
    "Given n non-negative integers a1, a2, ..., an , where each represents a point at coordinate (i, ai). n vertical lines are drawn such that the two endpoints of line i is at (i, ai) and (i, 0). Find two lines, which together with x-axis forms a container, such that the container contains the most water.\n",
    "\n",
    "<b>Note<b>: You may not slant the container and n is at least 2.\n",
    "\n",
    "Example:\n",
    "\n",
    "    Input: [1,8,6,2,5,4,8,3,7]\n",
    "    Output: 49\n"
   ]
  },
  {
   "cell_type": "code",
   "execution_count": 76,
   "metadata": {},
   "outputs": [
    {
     "data": {
      "text/plain": [
       "1"
      ]
     },
     "execution_count": 76,
     "metadata": {},
     "output_type": "execute_result"
    }
   ],
   "source": [
    "def maxArea( height) :\n",
    "    area_list = []\n",
    "    first_p = 0\n",
    "    last_p = len(height)-1\n",
    "    while first_p < last_p:\n",
    "        area = (min(height[first_p],height[last_p]))*(last_p-first_p)\n",
    "        area_list.append(area)\n",
    "        if height[first_p] < height[last_p]:\n",
    "            first_p += 1\n",
    "        else:\n",
    "            last_p -= 1    \n",
    "    return max(area_list)\n",
    "maxArea([1,8,6,2,5,4,8,3,7])\n",
    "maxArea([1,1])"
   ]
  },
  {
   "cell_type": "code",
   "execution_count": null,
   "metadata": {},
   "outputs": [],
   "source": []
  },
  {
   "cell_type": "code",
   "execution_count": null,
   "metadata": {},
   "outputs": [],
   "source": []
  },
  {
   "cell_type": "code",
   "execution_count": null,
   "metadata": {},
   "outputs": [],
   "source": []
  },
  {
   "cell_type": "code",
   "execution_count": null,
   "metadata": {},
   "outputs": [],
   "source": []
  },
  {
   "cell_type": "code",
   "execution_count": null,
   "metadata": {},
   "outputs": [],
   "source": []
  },
  {
   "cell_type": "code",
   "execution_count": null,
   "metadata": {},
   "outputs": [],
   "source": []
  },
  {
   "cell_type": "code",
   "execution_count": null,
   "metadata": {},
   "outputs": [],
   "source": []
  },
  {
   "cell_type": "code",
   "execution_count": null,
   "metadata": {},
   "outputs": [],
   "source": []
  },
  {
   "cell_type": "code",
   "execution_count": null,
   "metadata": {},
   "outputs": [],
   "source": []
  },
  {
   "cell_type": "code",
   "execution_count": null,
   "metadata": {},
   "outputs": [],
   "source": []
  },
  {
   "cell_type": "code",
   "execution_count": null,
   "metadata": {},
   "outputs": [],
   "source": []
  },
  {
   "cell_type": "code",
   "execution_count": null,
   "metadata": {},
   "outputs": [],
   "source": []
  },
  {
   "cell_type": "code",
   "execution_count": null,
   "metadata": {},
   "outputs": [],
   "source": []
  },
  {
   "cell_type": "code",
   "execution_count": null,
   "metadata": {},
   "outputs": [],
   "source": []
  },
  {
   "cell_type": "code",
   "execution_count": null,
   "metadata": {},
   "outputs": [],
   "source": []
  },
  {
   "cell_type": "code",
   "execution_count": null,
   "metadata": {},
   "outputs": [],
   "source": []
  }
 ],
 "metadata": {
  "kernelspec": {
   "display_name": "Python 3.8.2 64-bit",
   "language": "python",
   "name": "python38264bite2ffee56252a426a84230de9e48cdd25"
  },
  "language_info": {
   "codemirror_mode": {
    "name": "ipython",
    "version": 3
   },
   "file_extension": ".py",
   "mimetype": "text/x-python",
   "name": "python",
   "nbconvert_exporter": "python",
   "pygments_lexer": "ipython3",
   "version": "3.8.2"
  }
 },
 "nbformat": 4,
 "nbformat_minor": 2
}
