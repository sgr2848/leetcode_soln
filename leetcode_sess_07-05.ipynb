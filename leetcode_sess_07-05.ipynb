{
 "cells": [
  {
   "cell_type": "markdown",
   "metadata": {},
   "source": [
    "# 1 : Lucky Number\n",
    "Given an array of integers arr, a lucky integer is an integer which has a frequency in the array equal to its value.\n",
    "\n",
    "Return a lucky integer in the array. If there are multiple lucky integers return the largest of them. If there is no lucky integer return -1.\n",
    "\n",
    "Example 1:\n",
    "\n",
    "    Input: arr = [2,2,3,4]\n",
    "    Output: 2\n",
    "    Explanation: The only lucky number in the array is 2 because frequency[2] == 2.\n"
   ]
  },
  {
   "cell_type": "code",
   "execution_count": 22,
   "metadata": {},
   "outputs": [],
   "source": [
    "class Solution:\n",
    "    def findLucky(self, arr):\n",
    "        add_dict = {}\n",
    "        for i in arr:            \n",
    "            if i not in add_dict:\n",
    "                add_dict[i] = 1\n",
    "            else:\n",
    "                add_dict[i] += 1\n",
    "        for key in sorted(add_dict.keys(),reverse=True):\n",
    "            if key == add_dict[key]:\n",
    "                return key\n",
    "        return -1"
   ]
  },
  {
   "cell_type": "markdown",
   "metadata": {},
   "source": [
    "# 2 Rearrange Words in a Sentence\n",
    "Given a sentence text (A sentence is a string of space-separated words) in the following format:\n",
    "\n",
    "    First letter is in upper case.\n",
    "    Each word in text are separated by a single space.\n",
    "\n",
    "Your task is to rearrange the words in text such that all words are rearranged in an increasing order of their lengths. If two words have the same length, arrange them in their original order.\n",
    "\n",
    "Return the new text following the format shown above.\n",
    "\n",
    " \n",
    "\n",
    "Example 1:\n",
    "\n",
    "    Input: text = \"Leetcode is cool\"\n",
    "    Output: \"Is cool leetcode\"\n",
    "    Explanation: There are 3 words, \"Leetcode\" of length 8, \"is\" of length 2 and \"cool\" of length 4.\n",
    "    Output is ordered by length and the new first word starts with capital letter.\n"
   ]
  },
  {
   "cell_type": "code",
   "execution_count": 20,
   "metadata": {},
   "outputs": [
    {
     "name": "stdout",
     "output_type": "stream",
     "text": [
      "<class 'dict'>\n",
      "<class 'dict'>\n",
      "<class 'dict'>\n",
      "<class 'dict'>\n",
      "To be or to be not\n"
     ]
    }
   ],
   "source": [
    "def arrangeWords(text):\n",
    "    word_dict = {}\n",
    "    list_arr = text.split(\" \")\n",
    "    for i in list_arr:\n",
    "        if len(i) not in word_dict:\n",
    "            word_dict[len(i)] = [i.lower()]\n",
    "        else:\n",
    "            arr = word_dict[len(i)]           \n",
    "            arr.append(i.lower())\n",
    "            word_dict[len(i)] = [\" \".join(arr)]            \n",
    "    word = \" \".join(i[1][0] for i in sorted(word_dict.items())) \n",
    "    print(word.capitalize())\n",
    "arrangeWords(\"To be or not to be\")"
   ]
  },
  {
   "cell_type": "code",
   "execution_count": null,
   "metadata": {},
   "outputs": [],
   "source": []
  }
 ],
 "metadata": {
  "kernelspec": {
   "display_name": "Python 3.8.2 64-bit",
   "language": "python",
   "name": "python38264bite2ffee56252a426a84230de9e48cdd25"
  },
  "language_info": {
   "codemirror_mode": {
    "name": "ipython",
    "version": 3
   },
   "file_extension": ".py",
   "mimetype": "text/x-python",
   "name": "python",
   "nbconvert_exporter": "python",
   "pygments_lexer": "ipython3",
   "version": "3.8.2"
  }
 },
 "nbformat": 4,
 "nbformat_minor": 2
}
